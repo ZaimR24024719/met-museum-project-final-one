{
 "cells": [
  {
   "cell_type": "code",
   "execution_count": null,
   "id": "251fb8de",
   "metadata": {},
   "outputs": [],
   "source": [
    "%pip install flask"
   ]
  },
  {
   "cell_type": "code",
   "execution_count": null,
   "id": "8fdf73e3",
   "metadata": {},
   "outputs": [
    {
     "name": "stdout",
     "output_type": "stream",
     "text": [
      "Requirement already satisfied: requests in c:\\users\\ahmad\\anaconda3\\lib\\site-packages (2.32.3)\n",
      "Requirement already satisfied: pandas in c:\\users\\ahmad\\anaconda3\\lib\\site-packages (2.2.2)\n",
      "Requirement already satisfied: sqlalchemy in c:\\users\\ahmad\\anaconda3\\lib\\site-packages (2.0.34)\n",
      "Requirement already satisfied: charset-normalizer<4,>=2 in c:\\users\\ahmad\\anaconda3\\lib\\site-packages (from requests) (3.3.2)\n",
      "Requirement already satisfied: idna<4,>=2.5 in c:\\users\\ahmad\\anaconda3\\lib\\site-packages (from requests) (3.7)\n",
      "Requirement already satisfied: urllib3<3,>=1.21.1 in c:\\users\\ahmad\\anaconda3\\lib\\site-packages (from requests) (2.2.3)\n",
      "Requirement already satisfied: certifi>=2017.4.17 in c:\\users\\ahmad\\anaconda3\\lib\\site-packages (from requests) (2024.8.30)\n",
      "Requirement already satisfied: numpy>=1.26.0 in c:\\users\\ahmad\\anaconda3\\lib\\site-packages (from pandas) (1.26.4)\n",
      "Requirement already satisfied: python-dateutil>=2.8.2 in c:\\users\\ahmad\\anaconda3\\lib\\site-packages (from pandas) (2.9.0.post0)\n",
      "Requirement already satisfied: pytz>=2020.1 in c:\\users\\ahmad\\anaconda3\\lib\\site-packages (from pandas) (2024.1)\n",
      "Requirement already satisfied: tzdata>=2022.7 in c:\\users\\ahmad\\anaconda3\\lib\\site-packages (from pandas) (2023.3)\n",
      "Requirement already satisfied: typing-extensions>=4.6.0 in c:\\users\\ahmad\\anaconda3\\lib\\site-packages (from sqlalchemy) (4.11.0)\n",
      "Requirement already satisfied: greenlet!=0.4.17 in c:\\users\\ahmad\\anaconda3\\lib\\site-packages (from sqlalchemy) (3.0.1)\n",
      "Requirement already satisfied: six>=1.5 in c:\\users\\ahmad\\anaconda3\\lib\\site-packages (from python-dateutil>=2.8.2->pandas) (1.16.0)\n",
      "Note: you may need to restart the kernel to use updated packages.\n"
     ]
    }
   ],
   "source": [
    "#To first create a database you need to install pandas sqlalchemy\n",
    "%pip install requests pandas sqlalchemy"
   ]
  },
  {
   "cell_type": "code",
   "execution_count": null,
   "id": "e6991a30",
   "metadata": {},
   "outputs": [
    {
     "name": "stdout",
     "output_type": "stream",
     "text": [
      "Requirement already satisfied: flask-cors in c:\\users\\ahmad\\anaconda3\\lib\\site-packages (6.0.0)\n",
      "Requirement already satisfied: flask>=0.9 in c:\\users\\ahmad\\anaconda3\\lib\\site-packages (from flask-cors) (3.0.3)\n",
      "Requirement already satisfied: Werkzeug>=0.7 in c:\\users\\ahmad\\anaconda3\\lib\\site-packages (from flask-cors) (3.0.3)\n",
      "Requirement already satisfied: Jinja2>=3.1.2 in c:\\users\\ahmad\\anaconda3\\lib\\site-packages (from flask>=0.9->flask-cors) (3.1.4)\n",
      "Requirement already satisfied: itsdangerous>=2.1.2 in c:\\users\\ahmad\\anaconda3\\lib\\site-packages (from flask>=0.9->flask-cors) (2.2.0)\n",
      "Requirement already satisfied: click>=8.1.3 in c:\\users\\ahmad\\anaconda3\\lib\\site-packages (from flask>=0.9->flask-cors) (8.1.7)\n",
      "Requirement already satisfied: blinker>=1.6.2 in c:\\users\\ahmad\\anaconda3\\lib\\site-packages (from flask>=0.9->flask-cors) (1.6.2)\n",
      "Requirement already satisfied: MarkupSafe>=2.1.1 in c:\\users\\ahmad\\anaconda3\\lib\\site-packages (from Werkzeug>=0.7->flask-cors) (2.1.3)\n",
      "Requirement already satisfied: colorama in c:\\users\\ahmad\\anaconda3\\lib\\site-packages (from click>=8.1.3->flask>=0.9->flask-cors) (0.4.6)\n",
      "Note: you may need to restart the kernel to use updated packages.\n"
     ]
    }
   ],
   "source": [
    "#After you have installed sqlalchemy you need to install flask-cors\n",
    "%pip install flask-cors"
   ]
  },
  {
   "cell_type": "code",
   "execution_count": null,
   "id": "d2a614e2",
   "metadata": {},
   "outputs": [],
   "source": [
    "# after both of those above have been installed you can then start making the website as well as getting public data from a website with the code bellow\n",
    "from flask import Flask, jsonify\n",
    "from flask_sqlalchemy import SQLAlchemy\n",
    "from flask_cors import CORS\n",
    "from sqlalchemy.orm import relationship\n",
    "\n",
    "# This is the flask app setup\n",
    "app = Flask(__name__)\n",
    "CORS(app)\n",
    "\n",
    "app.config['SQLALCHEMY_DATABASE_URI'] = 'sqlite:///metmuseum.db'\n",
    "app.config['SQLALCHEMY_TRACK_MODIFICATIONS'] = False\n",
    "db = SQLAlchemy(app)\n",
    "\n",
    "# These are the association tables  \n",
    "artwork_exhibitions = db.Table('artwork_exhibitions',\n",
    "    db.Column('objectID', db.Integer, db.ForeignKey('artworks.objectID'), primary_key=True),\n",
    "    db.Column('exhibitionId', db.Integer, db.ForeignKey('exhibitions.exhibitionId'), primary_key=True)\n",
    ")\n",
    "\n",
    "artwork_artists = db.Table('artwork_artists',\n",
    "    db.Column('objectID', db.Integer, db.ForeignKey('artworks.objectID'), primary_key=True),\n",
    "    db.Column('artistId', db.String, db.ForeignKey('artists.artistId'), primary_key=True)\n",
    ")\n",
    "\n",
    "# These are the models. They define three SQLAlchemy models in a flask application\n",
    "class Artwork(db.Model):\n",
    "    __tablename__ = 'artworks'\n",
    "    objectID = db.Column(db.Integer, primary_key=True)\n",
    "    title = db.Column(db.String)\n",
    "    objectDate = db.Column(db.String)\n",
    "    medium = db.Column(db.String)\n",
    "    dimensions = db.Column(db.String)\n",
    "    creditLine = db.Column(db.String)\n",
    "    primaryImage = db.Column(db.String)\n",
    "    accessionYear = db.Column(db.String)\n",
    "    exhibitions = db.relationship('Exhibition', secondary=artwork_exhibitions, backref='artworks')\n",
    "    artists = db.relationship('Artist', secondary=artwork_artists, backref='artworks')\n",
    "\n",
    "class Exhibition(db.Model):\n",
    "    __tablename__ = 'exhibitions'\n",
    "    exhibitionId = db.Column(db.Integer, primary_key=True, autoincrement=True)\n",
    "    name = db.Column(db.String, unique=True)\n",
    "    floor = db.Column(db.String)\n",
    "    description = db.Column(db.String)\n",
    "\n",
    "class Artist(db.Model):\n",
    "    __tablename__ = 'artists'\n",
    "    artistId = db.Column(db.String, primary_key=True)\n",
    "    name = db.Column(db.String)\n",
    "    nationality = db.Column(db.String)\n",
    "    lifespan = db.Column(db.String)\n",
    "\n",
    "# These are the API routes. They define several flask API routes that interact with a database using SQLAlchemy to retrieve data about exhibitions, artworks, and artist\n",
    "\n",
    "@app.route('/exhibitions', methods=['GET'])\n",
    "def get_exhibitions():\n",
    "    exhibitions = Exhibition.query.all()\n",
    "    return jsonify([\n",
    "        {\n",
    "            'exhibitionId': e.exhibitionId,\n",
    "            'name': e.name,\n",
    "            'floor': e.floor,\n",
    "            'description': e.description,\n",
    "            'artworkCount': len(e.artworks)\n",
    "        } for e in exhibitions\n",
    "    ])\n",
    "\n",
    "@app.route('/exhibitions/<int:exhibition_id>/artworks', methods=['GET'])\n",
    "def get_artworks_by_exhibition(exhibition_id):\n",
    "    exhibition = Exhibition.query.get_or_404(exhibition_id)\n",
    "    return jsonify([\n",
    "        {\n",
    "            'objectID': art.objectID,\n",
    "            'title': art.title,\n",
    "            'primaryImage': art.primaryImage,\n",
    "            'artist': art.artists[0].name if art.artists else \"Unknown\"\n",
    "        } for art in exhibition.artworks\n",
    "    ])\n",
    "\n",
    "@app.route('/artworks/<int:object_id>', methods=['GET'])\n",
    "def get_artwork_details(object_id):\n",
    "    artwork = Artwork.query.get_or_404(object_id)\n",
    "    return jsonify({\n",
    "        'objectID': artwork.objectID,\n",
    "        'title': artwork.title,\n",
    "        'objectDate': artwork.objectDate,\n",
    "        'medium': artwork.medium,\n",
    "        'dimensions': artwork.dimensions,\n",
    "        'creditLine': artwork.creditLine,\n",
    "        'primaryImage': artwork.primaryImage,\n",
    "        'accessionYear': artwork.accessionYear,\n",
    "        'artists': [{\n",
    "            'name': artist.name,\n",
    "            'nationality': artist.nationality,\n",
    "            'lifespan': artist.lifespan\n",
    "        } for artist in artwork.artists],\n",
    "        'exhibitions': [e.name for e in artwork.exhibitions]\n",
    "    })\n",
    "\n",
    "@app.route('/artists', methods=['GET'])\n",
    "def list_artists():\n",
    "    artists = Artist.query.all()\n",
    "    return jsonify([{\n",
    "        'artistId': a.artistId,\n",
    "        'name': a.name,\n",
    "        'nationality': a.nationality,\n",
    "        'lifespan': a.lifespan,\n",
    "        'artworkCount': len(a.artworks)\n",
    "    } for a in artists])\n",
    "\n",
    "@app.route('/artists/<string:artist_id>/artworks', methods=['GET'])\n",
    "def get_artist_artworks(artist_id):\n",
    "    artist = Artist.query.get_or_404(artist_id)\n",
    "    return jsonify([{\n",
    "        'objectID': a.objectID,\n",
    "        'title': a.title,\n",
    "        'primaryImage': a.primaryImage\n",
    "    } for a in artist.artworks])\n",
    "\n",
    "# This code runs the database\n",
    "\n",
    "if __name__ == '__main__':\n",
    "    import os\n",
    "    print(\"Connected to:\", os.path.abspath(\"metmuseum.db\"))\n",
    "    app.run(debug=True)\n"
   ]
  },
  {
   "cell_type": "markdown",
   "id": "24f70b8e",
   "metadata": {},
   "source": [
    "This is the mermaid diagram that me and my team created\n",
    "![Mermaid Diagram](met_museum_project\\public\\mermaid_diagram.png)"
   ]
  },
  {
   "cell_type": "markdown",
   "id": "e92ce0b4",
   "metadata": {},
   "source": [
    "This is the database inside db browser.\n",
    "![Mermaid Diagram](met_museum_project\\public\\database_image.png)"
   ]
  }
 ],
 "metadata": {
  "kernelspec": {
   "display_name": "base",
   "language": "python",
   "name": "python3"
  },
  "language_info": {
   "codemirror_mode": {
    "name": "ipython",
    "version": 3
   },
   "file_extension": ".py",
   "mimetype": "text/x-python",
   "name": "python",
   "nbconvert_exporter": "python",
   "pygments_lexer": "ipython3",
   "version": "3.12.7"
  }
 },
 "nbformat": 4,
 "nbformat_minor": 5
}
